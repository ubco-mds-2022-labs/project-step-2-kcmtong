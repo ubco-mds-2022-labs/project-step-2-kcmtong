{
 "cells": [
  {
   "cell_type": "code",
   "execution_count": 1,
   "id": "ca805db1-8fba-4741-890f-3584d7b9d3eb",
   "metadata": {},
   "outputs": [
    {
     "name": "stderr",
     "output_type": "stream",
     "text": [
      ".........\n",
      "----------------------------------------------------------------------\n",
      "Ran 9 tests in 0.006s\n",
      "\n",
      "OK\n"
     ]
    },
    {
     "name": "stdout",
     "output_type": "stream",
     "text": [
      "<unittest.runner.TextTestResult run=9 errors=0 failures=0>\n"
     ]
    }
   ],
   "source": [
    "import unittest\n",
    "from TestUserProfile import TestUserProfile\n",
    "from TestCollector import TestCollector\n",
    "from TestResource import TestResource\n",
    "from TestAdvisor import TestAdvisor\n",
    "\n",
    "def my_suite():\n",
    "    suite = unittest.TestSuite()\n",
    "    result = unittest.TestResult()\n",
    "    suite.addTest(unittest.makeSuite(TestUserProfile))\n",
    "    suite.addTest(unittest.makeSuite(TestCollector))\n",
    "    suite.addTest(unittest.makeSuite(TestResource))\n",
    "    suite.addTest(unittest.makeSuite(TestAdvisor))\n",
    "    runner = unittest.TextTestRunner()\n",
    "    print(runner.run(suite))\n",
    "\n",
    "my_suite()\n"
   ]
  },
  {
   "cell_type": "code",
   "execution_count": null,
   "id": "7a49ab05-c036-4212-8288-62c3c643ebf5",
   "metadata": {},
   "outputs": [],
   "source": []
  },
  {
   "cell_type": "code",
   "execution_count": null,
   "id": "18abb36c-4ba5-4a92-a9d8-22ef321795bb",
   "metadata": {},
   "outputs": [],
   "source": []
  }
 ],
 "metadata": {
  "kernelspec": {
   "display_name": "Python 3 (ipykernel)",
   "language": "python",
   "name": "python3"
  },
  "language_info": {
   "codemirror_mode": {
    "name": "ipython",
    "version": 3
   },
   "file_extension": ".py",
   "mimetype": "text/x-python",
   "name": "python",
   "nbconvert_exporter": "python",
   "pygments_lexer": "ipython3",
   "version": "3.9.13"
  }
 },
 "nbformat": 4,
 "nbformat_minor": 5
}
